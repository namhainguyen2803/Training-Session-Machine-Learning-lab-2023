{
 "cells": [
  {
   "cell_type": "code",
   "execution_count": null,
   "metadata": {
    "id": "suaquTiMqis_"
   },
   "outputs": [],
   "source": [
    "import tensorflow as tf\n",
    "from tensorflow import keras\n",
    "import pandas as pd \n",
    "import numpy as np \n",
    "import matplotlib.pyplot as plt"
   ]
  },
  {
   "cell_type": "code",
   "execution_count": null,
   "metadata": {
    "id": "82_R01esqnmS"
   },
   "outputs": [],
   "source": [
    "def load_data(path = \"/Users/nguyennamhai/HUST/Training phase Machine Learning lab 2023/Phase 1/Session 3/Datasets\"):\n",
    "  \n",
    "    # Read data and split it to four lists: (label, data_id, index, tfidf)\n",
    "    def sparse_to_dense(sparse_r_d, vocab_size):\n",
    "      # Initialization\n",
    "      r_d = [0.0 for _ in range(vocab_size)]\n",
    "      # Get index vocal of each line and tfidf\n",
    "      indices_and_tfidfs = sparse_r_d.split()\n",
    "      for index_and_tfidf in indices_and_tfidfs:\n",
    "          index = int(index_and_tfidf.split(':')[0])\n",
    "          tfidf = float(index_and_tfidf.split(':')[1])\n",
    "          r_d[index] = tfidf\n",
    "      return np.array(r_d)    \n",
    "                \n",
    "    with open(path + \"data_tf_idf.txt\") as f:\n",
    "        data_lines = f.read().splitlines()\n",
    "    with open(path + \"words_idfs.txt\") as f:\n",
    "        vocab_size = len(f.read().splitlines())\n",
    "\n",
    "    data, labels = [], []\n",
    "    for data_id, d in enumerate(data_lines):\n",
    "        features = d.split('')\n",
    "        label, doc_id = int(features[0]), int(features[1])\n",
    "        r_d = sparse_to_dense(sparse_r_d=features[2], vocab_size=vocab_size)\n",
    "        data.append(r_d)\n",
    "        labels.append(label)\n",
    "    return np.array(data), np.array(labels)"
   ]
  },
  {
   "cell_type": "code",
   "execution_count": null,
   "metadata": {
    "id": "-eXF9zJzsMoT"
   },
   "outputs": [],
   "source": [
    "# Load data\n",
    "X, y = load_data()\n",
    "\n",
    "# split data to training set, test set, validation set\n",
    "from sklearn.model_selection import train_test_split\n",
    "X_train, X_test, y_train, y_test = train_test_split(X, y, test_size=0.2, random_state=1)\n",
    "X_train, X_val, y_train, y_val = train_test_split(X_train, y_train, test_size=0.25, random_state=1)"
   ]
  },
  {
   "cell_type": "code",
   "execution_count": null,
   "metadata": {
    "id": "gvPmFhRxsQwn"
   },
   "outputs": [],
   "source": [
    "model = keras.models.Sequential([ \n",
    "    keras.layers.Flatten(input_shape = X_train.shape[1:]),\n",
    "    keras.layers.Dense(100, activation = \"relu\"),\n",
    "    keras.layers.Dense(50, activation = \"relu\"),\n",
    "    keras.layers.Dense(20, activation = \"softmax\")])\n",
    "model.summary()"
   ]
  },
  {
   "cell_type": "code",
   "execution_count": null,
   "metadata": {
    "id": "AxdwAgoBsWBV"
   },
   "outputs": [],
   "source": [
    "model.compile(loss = \"sparse_categorical_crossentropy\",\n",
    "              optimizer = \"sgd\",\n",
    "              metrics=[\"accuracy\"])\n",
    "\n",
    "history = model.fit(X_train, y_train,\n",
    "                    epochs = 20,\n",
    "                    validation_data = (X_val, y_val))"
   ]
  },
  {
   "cell_type": "code",
   "execution_count": null,
   "metadata": {
    "id": "nj0vjwVcsZdZ"
   },
   "outputs": [],
   "source": [
    "model.evaluate(X_test, y_test)"
   ]
  }
 ],
 "metadata": {
  "colab": {
   "provenance": []
  },
  "kernelspec": {
   "display_name": "Python 3 (ipykernel)",
   "language": "python",
   "name": "python3"
  },
  "language_info": {
   "codemirror_mode": {
    "name": "ipython",
    "version": 3
   },
   "file_extension": ".py",
   "mimetype": "text/x-python",
   "name": "python",
   "nbconvert_exporter": "python",
   "pygments_lexer": "ipython3",
   "version": "3.9.13"
  }
 },
 "nbformat": 4,
 "nbformat_minor": 1
}
