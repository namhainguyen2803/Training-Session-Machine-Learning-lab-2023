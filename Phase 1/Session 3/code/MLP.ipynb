{
  "nbformat": 4,
  "nbformat_minor": 0,
  "metadata": {
    "colab": {
      "provenance": []
    },
    "kernelspec": {
      "name": "python3",
      "display_name": "Python 3"
    },
    "language_info": {
      "name": "python"
    }
  },
  "cells": [
    {
      "cell_type": "code",
      "execution_count": null,
      "metadata": {
        "id": "suaquTiMqis_"
      },
      "outputs": [],
      "source": [
        "import tensorflow as tf\n",
        "from tensorflow import keras\n",
        "import pandas as pd \n",
        "import numpy as np \n",
        "import matplotlib.pyplot as plt"
      ]
    },
    {
      "cell_type": "code",
      "source": [
        "def load_data(path = \"/Users/nguyennamhai/HUST/Training phase Machine Learning lab 2023/Phase 1/Session 3/Datasets\"):\n",
        "  \n",
        "    # Get data from each line with (label, doc_id, index, tfidf)\n",
        "    def sparse_to_dense(sparse_r_d, vocab_size):\n",
        "      # Initialization\n",
        "      r_d = [0.0 for _ in range(vocab_size)]\n",
        "      # Get index vocal of each line and tfidf\n",
        "      indices_and_tfidfs = sparse_r_d.split()\n",
        "      for index_and_tfidf in indices_and_tfidfs:\n",
        "          index = int(index_and_tfidf.split(':')[0])\n",
        "          tfidf = float(index_and_tfidf.split(':')[1])\n",
        "          r_d[index] = tfidf\n",
        "      return np.array(r_d)    \n",
        "                \n",
        "    with open(path + \"data_tf_idf.txt\") as f:\n",
        "        data_lines = f.read().splitlines()\n",
        "    with open(path + \"words_idfs.txt\") as f:\n",
        "        vocab_size = len(f.read().splitlines())\n",
        "\n",
        "    data, labels = [], []\n",
        "    for data_id, d in enumerate(data_lines):\n",
        "        features = d.split('')\n",
        "        label, doc_id = int(features[0]), int(features[1])\n",
        "        r_d = sparse_to_dense(sparse_r_d=features[2], vocab_size=vocab_size)\n",
        "        data.append(r_d)\n",
        "        labels.append(label)\n",
        "    return np.array(data), np.array(labels)"
      ],
      "metadata": {
        "id": "82_R01esqnmS"
      },
      "execution_count": null,
      "outputs": []
    },
    {
      "cell_type": "code",
      "source": [
        "# Load data\n",
        "X, y = load_data()\n",
        "\n",
        "# Split Data\n",
        "from sklearn.model_selection import train_test_split\n",
        "X_train, X_test, y_train, y_test = train_test_split(X, y, test_size=0.2, random_state=1)\n",
        "X_train, X_val, y_train, y_val = train_test_split(X_train, y_train, test_size=0.25, random_state=1) # 0.25 x 0.8 = 0.2"
      ],
      "metadata": {
        "id": "-eXF9zJzsMoT"
      },
      "execution_count": null,
      "outputs": []
    },
    {
      "cell_type": "code",
      "source": [
        "model = keras.models.Sequential([ \n",
        "    keras.layers.Flatten(input_shape = X_train.shape[1:]),\n",
        "    keras.layers.Dense(100, activation = \"relu\"),\n",
        "    keras.layers.Dense(50, activation = \"relu\"),\n",
        "    keras.layers.Dense(20, activation = \"softmax\")])\n",
        "model.summary()"
      ],
      "metadata": {
        "id": "gvPmFhRxsQwn"
      },
      "execution_count": null,
      "outputs": []
    },
    {
      "cell_type": "code",
      "source": [
        "model.compile(loss = \"sparse_categorical_crossentropy\",\n",
        "              optimizer = \"sgd\",\n",
        "              metrics=[\"accuracy\"])\n",
        "\n",
        "history = model.fit(X_train, y_train,\n",
        "                    epochs = 20,\n",
        "                    validation_data = (X_val, y_val))"
      ],
      "metadata": {
        "id": "AxdwAgoBsWBV"
      },
      "execution_count": null,
      "outputs": []
    },
    {
      "cell_type": "code",
      "source": [
        "model.evaluate(X_test, y_test)"
      ],
      "metadata": {
        "id": "nj0vjwVcsZdZ"
      },
      "execution_count": null,
      "outputs": []
    },
    {
      "cell_type": "code",
      "source": [],
      "metadata": {
        "id": "GqIcTHVwsd9P"
      },
      "execution_count": null,
      "outputs": []
    }
  ]
}