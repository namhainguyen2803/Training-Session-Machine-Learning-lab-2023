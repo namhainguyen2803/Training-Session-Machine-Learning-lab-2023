{
 "cells": [
  {
   "cell_type": "code",
   "execution_count": 1,
   "id": "37e06d35",
   "metadata": {},
   "outputs": [],
   "source": [
    "import numpy as np\n",
    "from sklearn.cluster import KMeans\n",
    "from scipy.sparse import csr_matrix\n",
    "from sklearn.model_selection import train_test_split\n",
    "from sklearn.svm import LinearSVC\n",
    "from sklearn.svm import SVC"
   ]
  },
  {
   "cell_type": "markdown",
   "id": "e04b7cec",
   "metadata": {},
   "source": [
    "#  KMeans"
   ]
  },
  {
   "cell_type": "code",
   "execution_count": 2,
   "id": "30371205",
   "metadata": {},
   "outputs": [],
   "source": [
    "def load_data(data_path):\n",
    "    def sparse_to_dense(sparse_r_d,vocab_size):\n",
    "        r_d = [0.0 for _ in range(vocab_size)]\n",
    "        indices_tfidfs = sparse_r_d.split()\n",
    "        for index_tfidf in indices_tfidfs:\n",
    "            index = int(index_tfidf.split(':')[0])\n",
    "            tfidf = float(index_tfidf.split(':')[1])\n",
    "            r_d[index] = tfidf\n",
    "        return np.array(r_d)\n",
    "    \n",
    "    #read data and vocab_size\n",
    "    with open(data_path + \"data_tf_idf.txt\") as f:\n",
    "        d_lines = f.read().splitlines()\n",
    "    with open(data_path + \"words_idfs.txt\") as f:\n",
    "        vocab_size = len(f.read().splitlines())\n",
    "    data, labels=[], []\n",
    "    #crawl data set and labels set\n",
    "    for data_id, d in enumerate(d_lines):\n",
    "        features = d.split('<fff>')\n",
    "        label, doc_id = int(features[0]), int(features[1])\n",
    "        r_d = sparse_to_dense(sparse_r_d = features[2], vocab_size=vocab_size)\n",
    "        #add to data and labels\n",
    "        data.append(r_d)\n",
    "        labels.append(label)\n",
    "    return data, np.array(labels)"
   ]
  },
  {
   "cell_type": "code",
   "execution_count": null,
   "id": "6328e3e8",
   "metadata": {},
   "outputs": [],
   "source": [
    "link_path = \"/Users/nguyennamhai/HUST/Training phase Machine Learning lab 2023/Phase 1/Session 2/Datasets/\"\n",
    "X,y = load_data(link_path)\n",
    "\n",
    "# split training set and testing set \n",
    "X_train, X_test, y_train, y_test = train_test_split(X,y,random_state=28)\n",
    "# Use csr_matrix to create a sparse matrix with efficient row slicing hence improving time for computing\n",
    "X_train=csr_matrix(X_train)"
   ]
  },
  {
   "cell_type": "code",
   "execution_count": null,
   "id": "99a53998",
   "metadata": {},
   "outputs": [],
   "source": [
    "# evaluate accuracy\n",
    "def compute_accuracy(prediced_y,expected_y):\n",
    "    matches = np.equal(prediced_y,expected_y)\n",
    "    accuracy = np.sum(matches.astype(float)) / expected_y.size\n",
    "    return accuracy"
   ]
  },
  {
   "cell_type": "code",
   "execution_count": null,
   "id": "c0389f70",
   "metadata": {},
   "outputs": [],
   "source": [
    "# KMeans\n",
    "kmeans = KMeans(random_state=42, tol = 1e-3, n_init = 5).fit(X_train)\n",
    "predicted_y_kmeans = kmeans.predict(X_test)\n",
    "accuracy_kmeans = compute_accuracy(prediced_y=predicted_y_kmeans,expected_y=y_test)\n",
    "print(\"Accuracy: {}\".format(accuracy_kmeans))"
   ]
  },
  {
   "cell_type": "markdown",
   "id": "729f275d",
   "metadata": {},
   "source": [
    "# Linear SVM"
   ]
  },
  {
   "cell_type": "code",
   "execution_count": null,
   "id": "3f0379e7",
   "metadata": {},
   "outputs": [],
   "source": [
    "link_path = \"/Users/nguyennamhai/HUST/Training phase Machine Learning lab 2023/Phase 1/Session 2/Datasets/\"\n",
    "X,y = load_data(link_path)\n",
    "# split training set and testing set \n",
    "X_train, X_test, y_train, y_test = train_test_split(X,y,random_state=28)\n",
    "# Use csr_matrix to create a sparse matrix with efficient row slicing hence improving time for computing\n",
    "X_train=csr_matrix(X_train)"
   ]
  },
  {
   "cell_type": "code",
   "execution_count": null,
   "id": "0a4a07e6",
   "metadata": {},
   "outputs": [],
   "source": [
    "# Linear SVM\n",
    "classifier = LinearSVC(C=10.0,tol = 0.001, verbose=True).fit(X_train,y_train)"
   ]
  },
  {
   "cell_type": "code",
   "execution_count": null,
   "id": "9c5b3a94",
   "metadata": {},
   "outputs": [],
   "source": [
    "# compute accuracy\n",
    "predicted_y_svm = classifier.predict(X_test)\n",
    "accuracy_linearsvms = compute_accuracy(prediced_y=predicted_y_svm, expected_y=y_test)\n",
    "print(\"Accuracy: {}\".format(accuracy_linearsvms))"
   ]
  },
  {
   "cell_type": "markdown",
   "id": "e62cda80",
   "metadata": {},
   "source": [
    "# Kernel SVM"
   ]
  },
  {
   "cell_type": "code",
   "execution_count": null,
   "id": "14df758e",
   "metadata": {},
   "outputs": [],
   "source": [
    "link_path = \"/Users/nguyennamhai/HUST/Training phase Machine Learning lab 2023/Phase 1/Session 2/Datasets/\"\n",
    "X,y = load_data(link_path)\n",
    "# split training set and testing set \n",
    "X_train, X_test, y_train, y_test = train_test_split(X,y,random_state=28)\n",
    "# Use csr_matrix to create a sparse matrix with efficient row slicing hence improving time for computing\n",
    "X_train=csr_matrix(X_train)"
   ]
  },
  {
   "cell_type": "code",
   "execution_count": null,
   "id": "0fb222ef",
   "metadata": {},
   "outputs": [],
   "source": [
    "# kernel SVM\n",
    "classifier_ker = SVC(C=50.0,\n",
    "    kernel='rbf', #{‘linear’, ‘poly’, ‘rbf’, ‘sigmoid’, ‘precomputed’}\n",
    "    gamma=0.1,\n",
    "    tol=0.001,\n",
    "    verbose=True\n",
    ").fit(X_train,y_train)"
   ]
  },
  {
   "cell_type": "code",
   "execution_count": null,
   "id": "99f10a59",
   "metadata": {},
   "outputs": [],
   "source": [
    "# compute accuracy\n",
    "predicted_y_svc = classifier.predict(X_test)\n",
    "accuracy_svc = compute_accuracy(prediced_y=predicted_y_svc, expected_y=y_test)\n",
    "print(\"Accuracy: {}\".format(accuracy_svc))"
   ]
  }
 ],
 "metadata": {
  "kernelspec": {
   "display_name": "Python 3 (ipykernel)",
   "language": "python",
   "name": "python3"
  },
  "language_info": {
   "codemirror_mode": {
    "name": "ipython",
    "version": 3
   },
   "file_extension": ".py",
   "mimetype": "text/x-python",
   "name": "python",
   "nbconvert_exporter": "python",
   "pygments_lexer": "ipython3",
   "version": "3.10.8"
  }
 },
 "nbformat": 4,
 "nbformat_minor": 5
}
